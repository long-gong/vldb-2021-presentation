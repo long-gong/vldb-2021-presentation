{
 "cells": [
  {
   "cell_type": "code",
   "execution_count": 6,
   "id": "b904e8a0",
   "metadata": {},
   "outputs": [
    {
     "name": "stdout",
     "output_type": "stream",
     "text": [
      "1 => 3\n",
      "2 => 13\n",
      "3 => 11\n",
      "4 => 9\n",
      "5 => 7\n",
      "6 => 11\n"
     ]
    }
   ],
   "source": [
    "# pip install xxhash\n",
    "\n",
    "import xxhash \n",
    "\n",
    "NUM_BUCKETS = 15\n",
    "for v in [1, 2, 3, 4, 5, 6]:\n",
    "    v_bytes = v.to_bytes(4, 'big')\n",
    "    bi = xxhash.xxh32(v_bytes).intdigest() % NUM_BUCKETS\n",
    "    print(f'{v} => {bi}')"
   ]
  },
  {
   "cell_type": "code",
   "execution_count": null,
   "id": "0ec389a3",
   "metadata": {},
   "outputs": [],
   "source": []
  },
  {
   "cell_type": "code",
   "execution_count": null,
   "id": "859425d2",
   "metadata": {},
   "outputs": [],
   "source": []
  },
  {
   "cell_type": "code",
   "execution_count": null,
   "id": "3bdad42c",
   "metadata": {},
   "outputs": [],
   "source": []
  }
 ],
 "metadata": {
  "kernelspec": {
   "display_name": "Python 3 (ipykernel)",
   "language": "python",
   "name": "python3"
  },
  "language_info": {
   "codemirror_mode": {
    "name": "ipython",
    "version": 3
   },
   "file_extension": ".py",
   "mimetype": "text/x-python",
   "name": "python",
   "nbconvert_exporter": "python",
   "pygments_lexer": "ipython3",
   "version": "3.9.5"
  }
 },
 "nbformat": 4,
 "nbformat_minor": 5
}
