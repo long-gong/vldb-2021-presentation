{
 "cells": [
  {
   "cell_type": "code",
   "execution_count": 13,
   "id": "c9b10eb9",
   "metadata": {},
   "outputs": [
    {
     "name": "stdout",
     "output_type": "stream",
     "text": [
      "[2, -2, 0, 2, 0]\n",
      "[2, -2, -2, 2, -2]\n",
      "d_est = 1.6\n"
     ]
    }
   ],
   "source": [
    "import xxhash\n",
    "import numpy as np\n",
    "\n",
    "def hash_wrapper(seed: int, hk: int) -> int:\n",
    "    k_bytes = hk.to_bytes(4, 'big')\n",
    "    x = (xxhash.xxh32(k_bytes, seed=seed).intdigest()  % 2)\n",
    "    return 2 * x  - 1\n",
    "\n",
    "A = [1, 2, 3, 5]\n",
    "B = [1, 2, 4, 5]\n",
    "NUM_SKECTHES = 5\n",
    "\n",
    "FA = []\n",
    "FB = []\n",
    "for s in range(1, NUM_SKECTHES + 1):\n",
    "    fa = 0\n",
    "    fb = 0\n",
    "    for a in A:\n",
    "        fa += hash_wrapper(s, a)\n",
    "    for b in B:\n",
    "        fb += hash_wrapper(s, b)\n",
    "    FA.append(fa)\n",
    "    FB.append(fb)\n",
    "print(FA)\n",
    "print(FB)\n",
    "FAB = np.asarray(FA) - np.asarray(FB)\n",
    "d_est = np.mean(FAB ** 2)\n",
    "print(f\"d_est = {d_est}\")"
   ]
  },
  {
   "cell_type": "code",
   "execution_count": null,
   "id": "11ce45b4",
   "metadata": {},
   "outputs": [],
   "source": []
  },
  {
   "cell_type": "code",
   "execution_count": null,
   "id": "8d49fba0",
   "metadata": {},
   "outputs": [],
   "source": []
  },
  {
   "cell_type": "code",
   "execution_count": null,
   "id": "602814e8",
   "metadata": {},
   "outputs": [],
   "source": []
  }
 ],
 "metadata": {
  "kernelspec": {
   "display_name": "Python 3 (ipykernel)",
   "language": "python",
   "name": "python3"
  },
  "language_info": {
   "codemirror_mode": {
    "name": "ipython",
    "version": 3
   },
   "file_extension": ".py",
   "mimetype": "text/x-python",
   "name": "python",
   "nbconvert_exporter": "python",
   "pygments_lexer": "ipython3",
   "version": "3.9.5"
  }
 },
 "nbformat": 4,
 "nbformat_minor": 5
}
